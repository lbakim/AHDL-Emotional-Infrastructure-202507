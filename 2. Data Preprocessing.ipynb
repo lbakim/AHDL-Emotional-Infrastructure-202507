{
 "cells": [
  {
   "cell_type": "code",
   "execution_count": 2,
   "id": "1f4e2232-b232-4f06-ba93-273be77bdd34",
   "metadata": {},
   "outputs": [],
   "source": [
    "import pandas as pd\n",
    "import numpy as np\n",
    "\n",
    "import re\n",
    "import os\n",
    "\n",
    "from bs4 import BeautifulSoup"
   ]
  },
  {
   "cell_type": "markdown",
   "id": "971152b8-8297-4e68-ae94-177e1e80566b",
   "metadata": {
    "jp-MarkdownHeadingCollapsed": true
   },
   "source": [
    "# 2.1 File Concatenation"
   ]
  },
  {
   "cell_type": "code",
   "execution_count": 3,
   "id": "07fd1df6-3510-4c80-a0ad-f7186cce2980",
   "metadata": {},
   "outputs": [
    {
     "name": "stdout",
     "output_type": "stream",
     "text": [
      "⚠️ 중복 기사 수: 0개\n",
      "✅ 통합 완료: 14524건 → ./guardian_data/guardian_vaccine.csv\n"
     ]
    }
   ],
   "source": [
    "## For Guardian\n",
    "input_dir = \"./guardian_data/vaccine/\"\n",
    "output_file = \"./guardian_data/guardian_vaccine.csv\"\n",
    "\n",
    "# 📦 파일 목록 가져오기 (.csv 확장자만)\n",
    "csv_files = [f for f in os.listdir(input_dir) if f.endswith(\".csv\")]\n",
    "\n",
    "dfs = []\n",
    "\n",
    "for file in csv_files:\n",
    "    file_path = os.path.join(input_dir, file)\n",
    "    df = pd.read_csv(file_path)\n",
    "    dfs.append(df)\n",
    "\n",
    "# 🔗 하나로 합치기\n",
    "combined_df = pd.concat(dfs, ignore_index=True)\n",
    "print(f\"⚠️ 중복 기사 수: {combined_df.duplicated(subset='url').sum()}개\")\n",
    "combined_df.drop_duplicates(subset=\"url\", inplace=True)\n",
    "\n",
    "# 💾 저장\n",
    "combined_df.to_csv(output_file, index=False, encoding='utf-8-sig')\n",
    "\n",
    "print(f\"✅ 통합 완료: {len(combined_df)}건 → {output_file}\")"
   ]
  },
  {
   "cell_type": "code",
   "execution_count": 5,
   "id": "d286f932-1820-425d-9c92-059b77824354",
   "metadata": {},
   "outputs": [
    {
     "name": "stdout",
     "output_type": "stream",
     "text": [
      "⚠️ 중복 기사 수: 0개\n",
      "✅ 통합 완료: 4175건 → ./nyt_data/nyt_vaccine.csv\n"
     ]
    }
   ],
   "source": [
    "# For NYT\n",
    "input_dir = \"./nyt_data/vaccine/\"\n",
    "output_file = \"./nyt_data/nyt_vaccine.csv\"\n",
    "\n",
    "# 📦 파일 목록 가져오기 (.csv 확장자만)\n",
    "csv_files = [f for f in os.listdir(input_dir) if f.endswith(\".csv\")]\n",
    "\n",
    "dfs = []\n",
    "\n",
    "for file in csv_files:\n",
    "    file_path = os.path.join(input_dir, file)\n",
    "    df = pd.read_csv(file_path)\n",
    "    dfs.append(df)\n",
    "\n",
    "# 🔗 하나로 합치기\n",
    "combined_df = pd.concat(dfs, ignore_index=True)\n",
    "print(f\"⚠️ 중복 기사 수: {combined_df.duplicated(subset='url').sum()}개\")\n",
    "combined_df.drop_duplicates(subset=\"url\", inplace=True)\n",
    "\n",
    "# 💾 저장\n",
    "combined_df.to_csv(output_file, index=False, encoding='utf-8-sig')\n",
    "\n",
    "print(f\"✅ 통합 완료: {len(combined_df)}건 → {output_file}\")"
   ]
  },
  {
   "cell_type": "markdown",
   "id": "e545b893-2c24-4a92-9cb8-1ccad3a9dc8b",
   "metadata": {},
   "source": [
    "# 2.2 Preprocessing"
   ]
  },
  {
   "cell_type": "code",
   "execution_count": 6,
   "id": "5fa9f0e0-0b64-402c-adc2-218f13694644",
   "metadata": {},
   "outputs": [],
   "source": [
    "## For Reddit\n",
    "df = pd.read_csv('./reddit_data/reddit_vaccine.csv')\n",
    "\n",
    "df['text'] = df['title'] + ' ' + df['selftext'].fillna('') + ' ' + df['top_comments'].fillna('')\n",
    "\n",
    "def preprocess(text):\n",
    "    text = text.lower()                            # 소문자화\n",
    "    text = re.sub(r'http\\S+', '', text)            # URL 제거\n",
    "    text = re.sub(r'\\n+', ' ', text)               # 개행 → 공백\n",
    "    text = re.sub(r'\\s+', ' ', text).strip()       # 여백 정리\n",
    "    return text\n",
    "\n",
    "df['text_clean'] = df['text'].apply(preprocess)\n",
    "\n",
    "df.to_csv('./ready/reddit_vaccine_ready.csv', encoding = 'utf-8-sig')"
   ]
  },
  {
   "cell_type": "code",
   "execution_count": 7,
   "id": "5540a00f-ad6f-46e4-8561-62dc43608b36",
   "metadata": {},
   "outputs": [],
   "source": [
    "## For Guardian\n",
    "df = pd.read_csv('./guardian_data/guardian_vaccine.csv')\n",
    "\n",
    "df['title'] = df['title'].fillna('')\n",
    "df['body'] = df['body'].fillna('')\n",
    "df['body'] = df['body'].apply(lambda x: re.sub(r'<.*?>', '', x))  # HTML 태그 제거\n",
    "\n",
    "df['text'] = df['title'] + ' ' + df['body']\n",
    "\n",
    "def preprocess(text):\n",
    "    text = text.lower()\n",
    "    text = re.sub(r'http\\S+', '', text)\n",
    "    text = re.sub(r'\\n+', ' ', text)\n",
    "    text = re.sub(r'\\s+', ' ', text).strip()\n",
    "    return text\n",
    "\n",
    "df['text_clean'] = df['text'].apply(preprocess)\n",
    "\n",
    "df.to_csv('./ready/guardian_vaccine_ready.csv', encoding='utf-8-sig', index=False)"
   ]
  },
  {
   "cell_type": "code",
   "execution_count": 8,
   "id": "64aa9462-ff01-4d9e-b73f-c76d89c8da1c",
   "metadata": {},
   "outputs": [],
   "source": [
    "## New York Times\n",
    "df = pd.read_csv('./nyt_data/nyt_vaccine.csv')\n",
    "\n",
    "df['headline'] = df['headline'].fillna('')\n",
    "df['lead_paragraph'] = df['lead_paragraph'].fillna('')\n",
    "\n",
    "df['text'] = df['headline'] + ' ' + df['lead_paragraph']\n",
    "\n",
    "def preprocess(text):\n",
    "    text = text.lower()\n",
    "    text = re.sub(r'http\\S+', '', text)\n",
    "    text = re.sub(r'\\n+', ' ', text)\n",
    "    text = re.sub(r'\\s+', ' ', text).strip()\n",
    "    return text\n",
    "\n",
    "df['text_clean'] = df['text'].apply(preprocess)\n",
    "\n",
    "df.to_csv('./ready/nyt_vaccine_ready.csv', encoding='utf-8-sig', index=False)"
   ]
  },
  {
   "cell_type": "code",
   "execution_count": null,
   "id": "185e73ab-ba28-4081-89e4-2fcb138bb943",
   "metadata": {},
   "outputs": [],
   "source": []
  }
 ],
 "metadata": {
  "kernelspec": {
   "display_name": "Python 3 (ipykernel)",
   "language": "python",
   "name": "python3"
  },
  "language_info": {
   "codemirror_mode": {
    "name": "ipython",
    "version": 3
   },
   "file_extension": ".py",
   "mimetype": "text/x-python",
   "name": "python",
   "nbconvert_exporter": "python",
   "pygments_lexer": "ipython3",
   "version": "3.13.2"
  }
 },
 "nbformat": 4,
 "nbformat_minor": 5
}
