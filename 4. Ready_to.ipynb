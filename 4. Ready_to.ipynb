{
 "cells": [
  {
   "cell_type": "code",
   "execution_count": 1,
   "id": "a3671ac8-568e-488a-a145-ea52d90f0dbe",
   "metadata": {},
   "outputs": [],
   "source": [
    "import pandas as pd\n",
    "import numpy as np"
   ]
  },
  {
   "cell_type": "markdown",
   "id": "4bd01dae-6e16-4633-9d54-8a0df80a65f0",
   "metadata": {},
   "source": [
    "# Load"
   ]
  },
  {
   "cell_type": "code",
   "execution_count": 15,
   "id": "912cae29-9af0-45e3-bd62-2aec9ade1b93",
   "metadata": {},
   "outputs": [],
   "source": [
    "df_reddit = pd.read_csv('./ready/reddit_vaccine_emotions.csv')\n",
    "df_guardian = pd.read_csv('./ready/guardian_vaccine_emotions.csv')\n",
    "df_nyt = pd.read_csv('./ready/nyt_vaccine_emotions.csv')"
   ]
  },
  {
   "cell_type": "markdown",
   "id": "bbf38b56-b82c-47fc-92b3-740757f1a34d",
   "metadata": {},
   "source": [
    "# Col Drop"
   ]
  },
  {
   "cell_type": "code",
   "execution_count": 16,
   "id": "2531884c-ee5b-4b35-bf19-ea1faee5af3f",
   "metadata": {},
   "outputs": [],
   "source": [
    "emotion_28 = [\n",
    "    'admiration', 'amusement', 'anger', 'annoyance', 'approval', 'caring', 'confusion',\n",
    "    'curiosity', 'desire', 'disappointment', 'disapproval', 'disgust', 'embarrassment',\n",
    "    'excitement', 'fear', 'gratitude', 'grief', 'joy', 'love', 'nervousness', 'optimism',\n",
    "    'pride', 'realization', 'relief', 'remorse', 'sadness', 'surprise', 'neutral'\n",
    "]\n",
    "\n",
    "reddit = ['created_utc', 'text_clean']\n",
    "guardian = ['pub_date', 'text_clean']\n",
    "nyt = ['pub_date', 'text_clean']"
   ]
  },
  {
   "cell_type": "code",
   "execution_count": 17,
   "id": "1d875cb2-d8dd-4771-bfb5-73c0a9d28a5b",
   "metadata": {},
   "outputs": [],
   "source": [
    "df_reddit = df_reddit[emotion_28 + reddit]\n",
    "df_guardian = df_guardian[emotion_28 + guardian]\n",
    "df_nyt = df_nyt[emotion_28 + nyt]"
   ]
  },
  {
   "cell_type": "markdown",
   "id": "4512cec4-4c43-428f-8a0e-226888a4172d",
   "metadata": {},
   "source": [
    "# col rename, reddit ~2018 drop"
   ]
  },
  {
   "cell_type": "code",
   "execution_count": 18,
   "id": "8e2517eb-d7db-413d-b31c-5825849295c3",
   "metadata": {},
   "outputs": [],
   "source": [
    "# datetime 변환 (timezone-aware 유지)\n",
    "df_reddit['created_utc'] = pd.to_datetime(df_reddit['created_utc'], utc=True, errors='coerce')\n",
    "\n",
    "# 2019-01-01 기준으로 필터링 (UTC-aware로 비교)\n",
    "cutoff = pd.Timestamp('2019-01-01', tz='UTC')\n",
    "df_reddit = df_reddit[df_reddit['created_utc'] >= cutoff]\n",
    "\n",
    "# col rename\n",
    "df_reddit.rename(columns = {'created_utc': 'pub_date'}, inplace=True)\n",
    "\n",
    "# col reorder\n",
    "new_order = ['pub_date', 'text_clean'] + emotion_28\n",
    "df_reddit = df_reddit[new_order]"
   ]
  },
  {
   "cell_type": "code",
   "execution_count": 19,
   "id": "8892269a-daa8-41cd-970c-e22cd61e661e",
   "metadata": {},
   "outputs": [],
   "source": [
    "# 변환\n",
    "df_guardian['pub_date'] = pd.to_datetime(df_guardian['pub_date'], errors='coerce').dt.tz_localize(None)\n",
    "df_nyt['pub_date'] = pd.to_datetime(df_nyt['pub_date'], errors='coerce').dt.tz_localize(None)\n",
    "\n",
    "# 공적 미디어 레이블 추가 (선택)\n",
    "df_guardian['platform'] = 'Guardian'\n",
    "df_nyt['platform'] = 'NYT'\n",
    "\n",
    "# 두 데이터 합치기\n",
    "df_public = pd.concat([df_guardian, df_nyt], ignore_index=True)\n",
    "\n",
    "# 데이터프레임 컬럼 재정렬\n",
    "new_order = ['pub_date', 'text_clean', 'platform'] + emotion_28\n",
    "df_public = df_public[new_order]"
   ]
  },
  {
   "cell_type": "code",
   "execution_count": 20,
   "id": "a3dfae05-3bfe-4bc9-8c90-84c4a15c2be7",
   "metadata": {},
   "outputs": [],
   "source": [
    "# save\n",
    "df_public.to_csv('./ready/public_media_vaccine.csv', index=False, encoding='utf-8-sig')\n",
    "df_reddit.to_csv('./ready/civil_platform_vaccine.csv', index=False, encoding='utf-8-sig')"
   ]
  }
 ],
 "metadata": {
  "kernelspec": {
   "display_name": "Python 3 (ipykernel)",
   "language": "python",
   "name": "python3"
  },
  "language_info": {
   "codemirror_mode": {
    "name": "ipython",
    "version": 3
   },
   "file_extension": ".py",
   "mimetype": "text/x-python",
   "name": "python",
   "nbconvert_exporter": "python",
   "pygments_lexer": "ipython3",
   "version": "3.13.2"
  }
 },
 "nbformat": 4,
 "nbformat_minor": 5
}
